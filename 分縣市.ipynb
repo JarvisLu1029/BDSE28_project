{
 "cells": [
  {
   "cell_type": "code",
   "execution_count": 1,
   "id": "1a71dc11-37ba-479a-b9c1-b581a4c5756f",
   "metadata": {},
   "outputs": [],
   "source": [
    "import pandas as pd"
   ]
  },
  {
   "cell_type": "code",
   "execution_count": 2,
   "id": "05b639a7-76ff-4d7f-a36f-2fd29a88ece1",
   "metadata": {},
   "outputs": [],
   "source": [
    "df = pd.read_csv('result.csv')"
   ]
  },
  {
   "cell_type": "code",
   "execution_count": 3,
   "id": "64361ea8-289c-4cd3-abec-1ec16f567ea9",
   "metadata": {
    "collapsed": true,
    "jupyter": {
     "outputs_hidden": true
    },
    "tags": []
   },
   "outputs": [
    {
     "data": {
      "text/html": [
       "<div>\n",
       "<style scoped>\n",
       "    .dataframe tbody tr th:only-of-type {\n",
       "        vertical-align: middle;\n",
       "    }\n",
       "\n",
       "    .dataframe tbody tr th {\n",
       "        vertical-align: top;\n",
       "    }\n",
       "\n",
       "    .dataframe thead th {\n",
       "        text-align: right;\n",
       "    }\n",
       "</style>\n",
       "<table border=\"1\" class=\"dataframe\">\n",
       "  <thead>\n",
       "    <tr style=\"text-align: right;\">\n",
       "      <th></th>\n",
       "      <th>Unnamed: 0</th>\n",
       "      <th>發生年度</th>\n",
       "      <th>發生月份</th>\n",
       "      <th>發生日期</th>\n",
       "      <th>發生時間</th>\n",
       "      <th>事故類別名稱</th>\n",
       "      <th>處理單位名稱警局層</th>\n",
       "      <th>發生地點</th>\n",
       "      <th>天候名稱</th>\n",
       "      <th>光線名稱</th>\n",
       "      <th>...</th>\n",
       "      <th>車輛撞擊部位大類別名稱-最初</th>\n",
       "      <th>車輛撞擊部位子類別名稱-最初</th>\n",
       "      <th>車輛撞擊部位大類別名稱-其他</th>\n",
       "      <th>車輛撞擊部位子類別名稱-其他</th>\n",
       "      <th>肇因研判大類別名稱-個別</th>\n",
       "      <th>肇因研判子類別名稱-個別</th>\n",
       "      <th>肇事逃逸類別名稱-是否肇逃</th>\n",
       "      <th>經度</th>\n",
       "      <th>緯度</th>\n",
       "      <th>天氣站名稱</th>\n",
       "    </tr>\n",
       "  </thead>\n",
       "  <tbody>\n",
       "    <tr>\n",
       "      <th>0</th>\n",
       "      <td>0.0</td>\n",
       "      <td>2022</td>\n",
       "      <td>11.0</td>\n",
       "      <td>20221101.0</td>\n",
       "      <td>0.0</td>\n",
       "      <td>A2</td>\n",
       "      <td>國道公路警察局</td>\n",
       "      <td>新北市鶯歌區國道3號 53公里100.0公尺處南側向內側</td>\n",
       "      <td>雨</td>\n",
       "      <td>夜間(或隧道、地下道、涵洞)無照明</td>\n",
       "      <td>...</td>\n",
       "      <td>汽車</td>\n",
       "      <td>左側車身</td>\n",
       "      <td>汽車</td>\n",
       "      <td>左前車頭(身)</td>\n",
       "      <td>其他</td>\n",
       "      <td>其他引起事故之違規或不當行為</td>\n",
       "      <td>否</td>\n",
       "      <td>121.336754</td>\n",
       "      <td>24.937961</td>\n",
       "      <td>中和 (Zhonghe)</td>\n",
       "    </tr>\n",
       "    <tr>\n",
       "      <th>1</th>\n",
       "      <td>1.0</td>\n",
       "      <td>2022</td>\n",
       "      <td>11.0</td>\n",
       "      <td>20221101.0</td>\n",
       "      <td>0.0</td>\n",
       "      <td>A2</td>\n",
       "      <td>國道公路警察局</td>\n",
       "      <td>新北市鶯歌區國道3號 53公里100.0公尺處南側向內側</td>\n",
       "      <td>雨</td>\n",
       "      <td>夜間(或隧道、地下道、涵洞)無照明</td>\n",
       "      <td>...</td>\n",
       "      <td>NaN</td>\n",
       "      <td>NaN</td>\n",
       "      <td>NaN</td>\n",
       "      <td>NaN</td>\n",
       "      <td>無(非車輛駕駛人因素)</td>\n",
       "      <td>尚未發現肇事因素</td>\n",
       "      <td>否</td>\n",
       "      <td>121.336754</td>\n",
       "      <td>24.937961</td>\n",
       "      <td>中和 (Zhonghe)</td>\n",
       "    </tr>\n",
       "    <tr>\n",
       "      <th>2</th>\n",
       "      <td>2.0</td>\n",
       "      <td>2022</td>\n",
       "      <td>11.0</td>\n",
       "      <td>20221101.0</td>\n",
       "      <td>0.0</td>\n",
       "      <td>A2</td>\n",
       "      <td>國道公路警察局</td>\n",
       "      <td>新北市鶯歌區國道3號 53公里100.0公尺處南側向內側</td>\n",
       "      <td>雨</td>\n",
       "      <td>夜間(或隧道、地下道、涵洞)無照明</td>\n",
       "      <td>...</td>\n",
       "      <td>其他</td>\n",
       "      <td>非汽(機)車</td>\n",
       "      <td>NaN</td>\n",
       "      <td>NaN</td>\n",
       "      <td>無(非車輛駕駛人因素)</td>\n",
       "      <td>尚未發現肇事因素</td>\n",
       "      <td>否</td>\n",
       "      <td>121.336754</td>\n",
       "      <td>24.937961</td>\n",
       "      <td>中和 (Zhonghe)</td>\n",
       "    </tr>\n",
       "  </tbody>\n",
       "</table>\n",
       "<p>3 rows × 53 columns</p>\n",
       "</div>"
      ],
      "text/plain": [
       "   Unnamed: 0  發生年度  發生月份        發生日期  發生時間 事故類別名稱 處理單位名稱警局層  \\\n",
       "0         0.0  2022  11.0  20221101.0   0.0     A2   國道公路警察局   \n",
       "1         1.0  2022  11.0  20221101.0   0.0     A2   國道公路警察局   \n",
       "2         2.0  2022  11.0  20221101.0   0.0     A2   國道公路警察局   \n",
       "\n",
       "                           發生地點 天候名稱               光線名稱  ... 車輛撞擊部位大類別名稱-最初  \\\n",
       "0  新北市鶯歌區國道3號 53公里100.0公尺處南側向內側    雨  夜間(或隧道、地下道、涵洞)無照明  ...             汽車   \n",
       "1  新北市鶯歌區國道3號 53公里100.0公尺處南側向內側    雨  夜間(或隧道、地下道、涵洞)無照明  ...            NaN   \n",
       "2  新北市鶯歌區國道3號 53公里100.0公尺處南側向內側    雨  夜間(或隧道、地下道、涵洞)無照明  ...             其他   \n",
       "\n",
       "   車輛撞擊部位子類別名稱-最初 車輛撞擊部位大類別名稱-其他 車輛撞擊部位子類別名稱-其他 肇因研判大類別名稱-個別    肇因研判子類別名稱-個別  \\\n",
       "0            左側車身             汽車        左前車頭(身)           其他  其他引起事故之違規或不當行為   \n",
       "1             NaN            NaN            NaN  無(非車輛駕駛人因素)        尚未發現肇事因素   \n",
       "2          非汽(機)車            NaN            NaN  無(非車輛駕駛人因素)        尚未發現肇事因素   \n",
       "\n",
       "  肇事逃逸類別名稱-是否肇逃          經度         緯度         天氣站名稱  \n",
       "0             否  121.336754  24.937961  中和 (Zhonghe)  \n",
       "1             否  121.336754  24.937961  中和 (Zhonghe)  \n",
       "2             否  121.336754  24.937961  中和 (Zhonghe)  \n",
       "\n",
       "[3 rows x 53 columns]"
      ]
     },
     "execution_count": 3,
     "metadata": {},
     "output_type": "execute_result"
    }
   ],
   "source": [
    "df.head(3)"
   ]
  },
  {
   "cell_type": "code",
   "execution_count": 3,
   "id": "6fbb8293-a393-4539-a0e9-be107100da50",
   "metadata": {},
   "outputs": [],
   "source": [
    "df['發生地點']=df['發生地點'].str[0:3]"
   ]
  },
  {
   "cell_type": "code",
   "execution_count": 5,
   "id": "f29c9cd9-df79-4f25-8b48-38760c23c848",
   "metadata": {
    "tags": []
   },
   "outputs": [],
   "source": [
    "final = df[['發生年度','發生地點','緯度','經度']]"
   ]
  },
  {
   "cell_type": "code",
   "execution_count": 4,
   "id": "a83f45e0-16df-4345-8d9c-47d71ef4248c",
   "metadata": {
    "tags": []
   },
   "outputs": [],
   "source": [
    "final = df.drop_duplicates(subset=['緯度','經度'])"
   ]
  },
  {
   "cell_type": "code",
   "execution_count": 38,
   "id": "990e4e5f-43ae-4595-a6d1-1e249e39b48f",
   "metadata": {},
   "outputs": [
    {
     "data": {
      "text/plain": [
       "array(['新北市', '臺北市', '嘉義縣', '屏東縣', '新竹市', '新竹縣', '南投縣', '彰化縣', '澎湖縣',\n",
       "       '臺中市', '宜蘭縣', '雲林縣', '苗栗縣', '臺東縣', '基隆市', '臺南市', '桃園市', '花蓮縣',\n",
       "       '高雄市', '金門縣', '嘉義市', '連江縣'], dtype=object)"
      ]
     },
     "execution_count": 38,
     "metadata": {},
     "output_type": "execute_result"
    }
   ],
   "source": [
    "df['發生地點'].unique()"
   ]
  },
  {
   "cell_type": "code",
   "execution_count": 21,
   "id": "882164e3-a260-42ee-b363-51cd075d7953",
   "metadata": {},
   "outputs": [],
   "source": [
    "list_tw = ['新北市', '臺北市', '嘉義縣', '屏東縣', '新竹市', '新竹縣', '南投縣', '彰化縣', '澎湖縣',\n",
    "       '臺中市', '宜蘭縣', '雲林縣', '苗栗縣', '臺東縣', '基隆市', '臺南市', '桃園市', '花蓮縣',\n",
    "       '高雄市', '金門縣', '嘉義市', '連江縣']"
   ]
  },
  {
   "cell_type": "code",
   "execution_count": null,
   "id": "55916a21-11b0-4cde-b525-cfdc2af364d8",
   "metadata": {},
   "outputs": [],
   "source": [
    "list_twEng = ['NewTaipeiCity', 'Taipei', 'ChiayiCounty', 'PingtungCounty', 'Hsinchu', \n",
    "              'HsinchuCounty', 'NantouCounty', 'ChanghuaCounty', 'PenghuCounty','Taichung', \n",
    "              'YilanCounty', 'YunlinCounty', 'MiaoliCounty', 'TaitungCounty', 'Keelung', 'Tainan', \n",
    "              'Taoyuan', 'HualienCounty','Kaohsiung', 'KinmenCounty', 'Chiayi', 'LienchiangCounty']"
   ]
  },
  {
   "cell_type": "code",
   "execution_count": 5,
   "id": "9b6e209c-43d2-47d8-9400-3e009e9baac9",
   "metadata": {},
   "outputs": [
    {
     "data": {
      "text/plain": [
       "(1235081, 53)"
      ]
     },
     "execution_count": 5,
     "metadata": {},
     "output_type": "execute_result"
    }
   ],
   "source": [
    "final.shape"
   ]
  },
  {
   "cell_type": "code",
   "execution_count": 8,
   "id": "d6c51d5c-90fb-4e54-af25-e861e98ee289",
   "metadata": {},
   "outputs": [
    {
     "data": {
      "text/html": [
       "<div>\n",
       "<style scoped>\n",
       "    .dataframe tbody tr th:only-of-type {\n",
       "        vertical-align: middle;\n",
       "    }\n",
       "\n",
       "    .dataframe tbody tr th {\n",
       "        vertical-align: top;\n",
       "    }\n",
       "\n",
       "    .dataframe thead th {\n",
       "        text-align: right;\n",
       "    }\n",
       "</style>\n",
       "<table border=\"1\" class=\"dataframe\">\n",
       "  <thead>\n",
       "    <tr style=\"text-align: right;\">\n",
       "      <th></th>\n",
       "      <th>發生年度</th>\n",
       "      <th>發生地點</th>\n",
       "      <th>緯度</th>\n",
       "      <th>經度</th>\n",
       "    </tr>\n",
       "  </thead>\n",
       "  <tbody>\n",
       "    <tr>\n",
       "      <th>0</th>\n",
       "      <td>2022</td>\n",
       "      <td>新北市</td>\n",
       "      <td>24.937961</td>\n",
       "      <td>121.336754</td>\n",
       "    </tr>\n",
       "    <tr>\n",
       "      <th>3</th>\n",
       "      <td>2022</td>\n",
       "      <td>臺北市</td>\n",
       "      <td>25.050405</td>\n",
       "      <td>121.508880</td>\n",
       "    </tr>\n",
       "    <tr>\n",
       "      <th>5</th>\n",
       "      <td>2022</td>\n",
       "      <td>新北市</td>\n",
       "      <td>25.008219</td>\n",
       "      <td>121.531538</td>\n",
       "    </tr>\n",
       "    <tr>\n",
       "      <th>7</th>\n",
       "      <td>2022</td>\n",
       "      <td>新北市</td>\n",
       "      <td>24.956779</td>\n",
       "      <td>121.362713</td>\n",
       "    </tr>\n",
       "    <tr>\n",
       "      <th>13</th>\n",
       "      <td>2022</td>\n",
       "      <td>新北市</td>\n",
       "      <td>24.955543</td>\n",
       "      <td>121.499651</td>\n",
       "    </tr>\n",
       "    <tr>\n",
       "      <th>...</th>\n",
       "      <td>...</td>\n",
       "      <td>...</td>\n",
       "      <td>...</td>\n",
       "      <td>...</td>\n",
       "    </tr>\n",
       "    <tr>\n",
       "      <th>3768564</th>\n",
       "      <td>2022</td>\n",
       "      <td>新北市</td>\n",
       "      <td>25.071621</td>\n",
       "      <td>121.497954</td>\n",
       "    </tr>\n",
       "    <tr>\n",
       "      <th>3768566</th>\n",
       "      <td>2022</td>\n",
       "      <td>桃園市</td>\n",
       "      <td>25.040142</td>\n",
       "      <td>121.387925</td>\n",
       "    </tr>\n",
       "    <tr>\n",
       "      <th>3768570</th>\n",
       "      <td>2022</td>\n",
       "      <td>臺北市</td>\n",
       "      <td>25.032869</td>\n",
       "      <td>121.565561</td>\n",
       "    </tr>\n",
       "    <tr>\n",
       "      <th>3768572</th>\n",
       "      <td>2022</td>\n",
       "      <td>桃園市</td>\n",
       "      <td>24.971668</td>\n",
       "      <td>121.326611</td>\n",
       "    </tr>\n",
       "    <tr>\n",
       "      <th>3768576</th>\n",
       "      <td>2022</td>\n",
       "      <td>臺北市</td>\n",
       "      <td>25.040540</td>\n",
       "      <td>121.507597</td>\n",
       "    </tr>\n",
       "  </tbody>\n",
       "</table>\n",
       "<p>1235081 rows × 4 columns</p>\n",
       "</div>"
      ],
      "text/plain": [
       "         發生年度 發生地點         緯度          經度\n",
       "0        2022  新北市  24.937961  121.336754\n",
       "3        2022  臺北市  25.050405  121.508880\n",
       "5        2022  新北市  25.008219  121.531538\n",
       "7        2022  新北市  24.956779  121.362713\n",
       "13       2022  新北市  24.955543  121.499651\n",
       "...       ...  ...        ...         ...\n",
       "3768564  2022  新北市  25.071621  121.497954\n",
       "3768566  2022  桃園市  25.040142  121.387925\n",
       "3768570  2022  臺北市  25.032869  121.565561\n",
       "3768572  2022  桃園市  24.971668  121.326611\n",
       "3768576  2022  臺北市  25.040540  121.507597\n",
       "\n",
       "[1235081 rows x 4 columns]"
      ]
     },
     "execution_count": 8,
     "metadata": {},
     "output_type": "execute_result"
    }
   ],
   "source": [
    "final[['發生年度','發生地點','緯度','經度']]"
   ]
  },
  {
   "cell_type": "code",
   "execution_count": 9,
   "id": "18a4f3b1-9f76-48c9-a206-163f31b15314",
   "metadata": {},
   "outputs": [
    {
     "data": {
      "text/plain": [
       "['NewTaipeiCity',\n",
       " 'Taipei',\n",
       " 'ChiayiCounty',\n",
       " 'PingtungCounty',\n",
       " 'Hsinchu',\n",
       " 'HsinchuCounty',\n",
       " 'NantouCounty',\n",
       " 'ChanghuaCounty',\n",
       " 'PenghuCounty',\n",
       " 'Taichung',\n",
       " 'YilanCounty',\n",
       " 'YunlinCounty',\n",
       " 'MiaoliCounty',\n",
       " 'TaitungCounty',\n",
       " 'Keelung',\n",
       " 'Tainan',\n",
       " 'Taoyuan',\n",
       " 'HualienCounty',\n",
       " 'Kaohsiung',\n",
       " 'KinmenCounty',\n",
       " 'Chiayi',\n",
       " 'LienchiangCounty']"
      ]
     },
     "execution_count": 9,
     "metadata": {},
     "output_type": "execute_result"
    }
   ],
   "source": [
    "list_tw = ['NewTaipeiCity', 'Taipei', 'ChiayiCounty', 'PingtungCounty', 'Hsinchu', 'HsinchuCounty', 'NantouCounty', 'ChanghuaCounty', 'PenghuCounty','Taichung', 'YilanCounty', 'YunlinCounty', 'MiaoliCounty', 'TaitungCounty', 'Keelung', 'Tainan', 'Taoyuan', 'HualienCounty','Kaohsiung', 'KinmenCounty', 'Chiayi', 'LienchiangCounty']\n",
    "list_tw"
   ]
  },
  {
   "cell_type": "code",
   "execution_count": 34,
   "id": "01c86ce1-a490-40cd-875d-935eb04157e2",
   "metadata": {
    "tags": []
   },
   "outputs": [],
   "source": [
    "df2022=final.loc[(final['發生年度']==2022),['發生年度','發生地點','緯度','經度']]"
   ]
  },
  {
   "cell_type": "code",
   "execution_count": 10,
   "id": "c423c459-5187-4725-ac78-2ed4932666c7",
   "metadata": {},
   "outputs": [
    {
     "data": {
      "text/html": [
       "<div>\n",
       "<style scoped>\n",
       "    .dataframe tbody tr th:only-of-type {\n",
       "        vertical-align: middle;\n",
       "    }\n",
       "\n",
       "    .dataframe tbody tr th {\n",
       "        vertical-align: top;\n",
       "    }\n",
       "\n",
       "    .dataframe thead th {\n",
       "        text-align: right;\n",
       "    }\n",
       "</style>\n",
       "<table border=\"1\" class=\"dataframe\">\n",
       "  <thead>\n",
       "    <tr style=\"text-align: right;\">\n",
       "      <th></th>\n",
       "      <th>Unnamed: 0</th>\n",
       "      <th>發生年度</th>\n",
       "      <th>發生月份</th>\n",
       "      <th>發生日期</th>\n",
       "      <th>發生時間</th>\n",
       "      <th>事故類別名稱</th>\n",
       "      <th>處理單位名稱警局層</th>\n",
       "      <th>發生地點</th>\n",
       "      <th>天候名稱</th>\n",
       "      <th>光線名稱</th>\n",
       "      <th>...</th>\n",
       "      <th>車輛撞擊部位大類別名稱-最初</th>\n",
       "      <th>車輛撞擊部位子類別名稱-最初</th>\n",
       "      <th>車輛撞擊部位大類別名稱-其他</th>\n",
       "      <th>車輛撞擊部位子類別名稱-其他</th>\n",
       "      <th>肇因研判大類別名稱-個別</th>\n",
       "      <th>肇因研判子類別名稱-個別</th>\n",
       "      <th>肇事逃逸類別名稱-是否肇逃</th>\n",
       "      <th>經度</th>\n",
       "      <th>緯度</th>\n",
       "      <th>天氣站名稱</th>\n",
       "    </tr>\n",
       "  </thead>\n",
       "  <tbody>\n",
       "    <tr>\n",
       "      <th>13969</th>\n",
       "      <td>0.0</td>\n",
       "      <td>2021</td>\n",
       "      <td>1.0</td>\n",
       "      <td>20210101.0</td>\n",
       "      <td>44900.0</td>\n",
       "      <td>A1</td>\n",
       "      <td>屏東縣政府警察局</td>\n",
       "      <td>屏東縣</td>\n",
       "      <td>晴</td>\n",
       "      <td>夜間(或隧道、地下道、涵洞)有照明</td>\n",
       "      <td>...</td>\n",
       "      <td>機車</td>\n",
       "      <td>前車頭</td>\n",
       "      <td>機車</td>\n",
       "      <td>右側車身</td>\n",
       "      <td>駕駛人</td>\n",
       "      <td>未注意車前狀態</td>\n",
       "      <td>否</td>\n",
       "      <td>120.560111</td>\n",
       "      <td>22.567105</td>\n",
       "      <td>墾丁 (Kenting) (撤銷站)</td>\n",
       "    </tr>\n",
       "    <tr>\n",
       "      <th>13971</th>\n",
       "      <td>2.0</td>\n",
       "      <td>2021</td>\n",
       "      <td>1.0</td>\n",
       "      <td>20210101.0</td>\n",
       "      <td>45700.0</td>\n",
       "      <td>A1</td>\n",
       "      <td>臺中市政府警察局</td>\n",
       "      <td>臺中市</td>\n",
       "      <td>晴</td>\n",
       "      <td>晨或暮光</td>\n",
       "      <td>...</td>\n",
       "      <td>機車</td>\n",
       "      <td>前車頭</td>\n",
       "      <td>NaN</td>\n",
       "      <td>NaN</td>\n",
       "      <td>駕駛人</td>\n",
       "      <td>未依規定減速</td>\n",
       "      <td>否</td>\n",
       "      <td>120.680001</td>\n",
       "      <td>24.070698</td>\n",
       "      <td>潭子 (Tanzi)</td>\n",
       "    </tr>\n",
       "    <tr>\n",
       "      <th>13973</th>\n",
       "      <td>4.0</td>\n",
       "      <td>2021</td>\n",
       "      <td>1.0</td>\n",
       "      <td>20210101.0</td>\n",
       "      <td>73000.0</td>\n",
       "      <td>A1</td>\n",
       "      <td>南投縣政府警察局</td>\n",
       "      <td>南投縣</td>\n",
       "      <td>晴</td>\n",
       "      <td>日間自然光線</td>\n",
       "      <td>...</td>\n",
       "      <td>機車</td>\n",
       "      <td>前車頭</td>\n",
       "      <td>NaN</td>\n",
       "      <td>NaN</td>\n",
       "      <td>駕駛人</td>\n",
       "      <td>未靠右行駛</td>\n",
       "      <td>否</td>\n",
       "      <td>121.303376</td>\n",
       "      <td>24.191833</td>\n",
       "      <td>天祥 (Tianxiang)</td>\n",
       "    </tr>\n",
       "  </tbody>\n",
       "</table>\n",
       "<p>3 rows × 53 columns</p>\n",
       "</div>"
      ],
      "text/plain": [
       "       Unnamed: 0  發生年度  發生月份        發生日期     發生時間 事故類別名稱 處理單位名稱警局層 發生地點 天候名稱  \\\n",
       "13969         0.0  2021   1.0  20210101.0  44900.0     A1  屏東縣政府警察局  屏東縣    晴   \n",
       "13971         2.0  2021   1.0  20210101.0  45700.0     A1  臺中市政府警察局  臺中市    晴   \n",
       "13973         4.0  2021   1.0  20210101.0  73000.0     A1  南投縣政府警察局  南投縣    晴   \n",
       "\n",
       "                    光線名稱  ... 車輛撞擊部位大類別名稱-最初  車輛撞擊部位子類別名稱-最初 車輛撞擊部位大類別名稱-其他  \\\n",
       "13969  夜間(或隧道、地下道、涵洞)有照明  ...             機車             前車頭             機車   \n",
       "13971               晨或暮光  ...             機車             前車頭            NaN   \n",
       "13973             日間自然光線  ...             機車             前車頭            NaN   \n",
       "\n",
       "      車輛撞擊部位子類別名稱-其他 肇因研判大類別名稱-個別 肇因研判子類別名稱-個別 肇事逃逸類別名稱-是否肇逃          經度  \\\n",
       "13969           右側車身          駕駛人      未注意車前狀態             否  120.560111   \n",
       "13971            NaN          駕駛人       未依規定減速             否  120.680001   \n",
       "13973            NaN          駕駛人        未靠右行駛             否  121.303376   \n",
       "\n",
       "              緯度               天氣站名稱  \n",
       "13969  22.567105  墾丁 (Kenting) (撤銷站)  \n",
       "13971  24.070698          潭子 (Tanzi)  \n",
       "13973  24.191833      天祥 (Tianxiang)  \n",
       "\n",
       "[3 rows x 53 columns]"
      ]
     },
     "execution_count": 10,
     "metadata": {},
     "output_type": "execute_result"
    }
   ],
   "source": [
    "df2021=final.loc[(final['發生年度']==2021)]\n",
    "df2021.head(3)"
   ]
  },
  {
   "cell_type": "code",
   "execution_count": 35,
   "id": "6594007c-5707-4a53-a4d3-f195840d1415",
   "metadata": {},
   "outputs": [],
   "source": [
    "for i in list_tw:\n",
    "    final3=df2022.loc[final['發生地點']==i,['緯度','經度']]\n",
    "    final3.to_csv(f\"C:/Users/student/Desktop/my_project/各縣市車禍座標/2022/{i}.csv\",index = False , encoding='utf-8-sig')"
   ]
  },
  {
   "cell_type": "code",
   "execution_count": null,
   "id": "b586b920-5386-4f5d-8f3e-b2eebac19d7f",
   "metadata": {},
   "outputs": [],
   "source": [
    "C:/Users/student/Desktop/my_project/各縣市車禍座標/2018"
   ]
  },
  {
   "cell_type": "code",
   "execution_count": 61,
   "id": "95214787-6eba-44df-b087-a929711f28c7",
   "metadata": {},
   "outputs": [],
   "source": [
    "final.to_csv(\"C:/Users/student/Downloads/result.csv\",index = False , encoding='utf-8-sig')"
   ]
  },
  {
   "cell_type": "code",
   "execution_count": 12,
   "id": "11a3a092-da87-41ef-843e-7293eb72cce8",
   "metadata": {},
   "outputs": [],
   "source": [
    "df2021.to_csv(f\"C:/Users/student/Desktop/my_project/各縣市車禍座標/2021車禍資料.csv\",index = False , encoding='utf-8-sig')"
   ]
  }
 ],
 "metadata": {
  "kernelspec": {
   "display_name": "Python 3 (ipykernel)",
   "language": "python",
   "name": "python3"
  },
  "language_info": {
   "codemirror_mode": {
    "name": "ipython",
    "version": 3
   },
   "file_extension": ".py",
   "mimetype": "text/x-python",
   "name": "python",
   "nbconvert_exporter": "python",
   "pygments_lexer": "ipython3",
   "version": "3.10.7"
  }
 },
 "nbformat": 4,
 "nbformat_minor": 5
}
