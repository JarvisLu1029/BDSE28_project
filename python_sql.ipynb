{
 "cells": [
  {
   "cell_type": "code",
   "execution_count": 1,
   "id": "5e88aafb-124e-4dac-8955-29c767122425",
   "metadata": {},
   "outputs": [],
   "source": [
    "import sqlalchemy as db"
   ]
  },
  {
   "cell_type": "code",
   "execution_count": 4,
   "id": "3a1cd4c9-de7b-4dfd-b2bb-f79c7820b8ff",
   "metadata": {},
   "outputs": [],
   "source": [
    "#連接資料庫\n",
    "username = 'root'     # 資料庫帳號\n",
    "password = 'Asd_102938'     # 資料庫密碼\n",
    "host = 'localhost'    # 資料庫位址\n",
    "port = '3306'         # 資料庫埠號\n",
    "database = 'classicmodels'   # 資料庫名稱\n",
    "table = 'offices'   # 表格名稱\n",
    "# 建立資料庫引擎\n",
    "engine = db.create_engine(f'mysql+pymysql://{username}:{password}@{host}:{port}/{database}')\n",
    "# 建立資料庫連線\n",
    "# con = engine.raw_connection()\n",
    "metadata = db.MetaData()\n",
    "connection  = engine.connect()"
   ]
  },
  {
   "cell_type": "code",
   "execution_count": null,
   "id": "b9cf0710-c70a-4fd8-b851-9c7bcba325d2",
   "metadata": {},
   "outputs": [],
   "source": [
    "from sqlalchemy.ext.declarative import declarative_base\n",
    "from sqlalchemy import Column, Integer, String, create_engine\n",
    "\n",
    "username = 'root'     # 資料庫帳號\n",
    "password = 'Asd_102938'     # 資料庫密碼\n",
    "host = 'localhost'    # 資料庫位址\n",
    "port = '3306'         # 資料庫埠號\n",
    "database = 'Accident'   # 資料庫名稱\n",
    "table = 'offices'   # 表格名稱\n",
    "# 建立資料庫引擎\n",
    "engine = db.create_engine(f'mysql+pymysql://{username}:{password}@{host}:{port}/{database}')\n",
    "# 宣告對映\n",
    "Base = declarative_base()\n",
    "\n",
    "class User(Base):  # 此為 2. python class  -> 通常會放在 models.py 裡面\n",
    "    __tablename__ = 'user'\n",
    "    id = Column(Integer, primary_key=True)\n",
    "    name = Column(String(60), nullable=False)\n",
    "\n",
    "# 建立Schema\n",
    "Base.metadata.create_all(engine)  # 相當於Create Table"
   ]
  },
  {
   "cell_type": "code",
   "execution_count": null,
   "id": "38f083cd-dc8f-4700-a7d5-74bf711c698f",
   "metadata": {},
   "outputs": [],
   "source": []
  },
  {
   "cell_type": "markdown",
   "id": "05091149-2978-4bfc-99d8-c2d4b0b18041",
   "metadata": {},
   "source": [
    "## 建表格"
   ]
  },
  {
   "cell_type": "code",
   "execution_count": 1,
   "id": "916b383c-976e-43eb-97d5-efab17c0c8ee",
   "metadata": {
    "tags": []
   },
   "outputs": [
    {
     "name": "stderr",
     "output_type": "stream",
     "text": [
      "C:\\Users\\student\\AppData\\Local\\Temp\\ipykernel_15580\\1174929662.py:17: SADeprecationWarning: The from_engine() method on Inspector is deprecated and will be removed in a future release.  Please use the sqlalchemy.inspect() function on an Engine or Connection in order to acquire an Inspector. (deprecated since: 1.4)\n",
      "  inspector = reflection.Inspector.from_engine(engine)\n",
      "C:\\Users\\student\\AppData\\Local\\Temp\\ipykernel_15580\\1174929662.py:29: SAWarning: This declarative base already contains a class with the same class name and module name as __main__.MyTable, and will be replaced in the string-lookup table.\n",
      "  class MyTable(Base):\n"
     ]
    }
   ],
   "source": [
    "import sqlalchemy as db\n",
    "from sqlalchemy.ext.declarative import declarative_base\n",
    "from sqlalchemy import Column, Integer, String\n",
    "from sqlalchemy.engine import reflection\n",
    "\n",
    "username = 'root'     # 資料庫帳號\n",
    "password = 'Asd_102938'     # 資料庫密碼\n",
    "host = 'localhost'    # 資料庫位址\n",
    "port = '3306'         # 資料庫埠號\n",
    "database = 'Accident'   # 資料庫名稱\n",
    "table = 'offices'   # 表格名稱\n",
    "# 建立資料庫引擎\n",
    "engine = db.create_engine(f'mysql+pymysql://{username}:{password}@{host}:{port}/{database}')\n",
    "\n",
    "# 创建基类\n",
    "Base = declarative_base()\n",
    "inspector = reflection.Inspector.from_engine(engine)\n",
    "existing_tables = inspector.get_table_names()\n",
    "\n",
    "\n",
    "locations=['NewTaipeiCity', 'Taipei', 'ChiayiCounty', 'PingtungCounty', 'Hsinchu', 'HsinchuCounty', 'NantouCounty', 'ChanghuaCounty', 'PenghuCounty','Taichung', 'YilanCounty', 'YunlinCounty', 'MiaoliCounty', 'TaitungCounty', 'Keelung', 'Tainan', 'Taoyuan', 'HualienCounty','Kaohsiung', 'KinmenCounty', 'Chiayi', 'LienchiangCounty']\n",
    "\n",
    "if 'my_table' not in existing_tables:\n",
    "    # 创建基类\n",
    "    Base = declarative_base()\n",
    "\n",
    "    for location in locations:\n",
    "# 定義表\n",
    "        class MyTable(Base):\n",
    "            __tablename__ = f'{location}_2022'\n",
    "            id = Column(Integer, primary_key=True)\n",
    "            lat = Column(String(50))\n",
    "            lng = Column(String(50))\n",
    "        \n",
    "    table = MyTable.__table__\n",
    "\n",
    "    # 删除列\n",
    "    # table.drop_column('id')\n",
    "    #创建表\n",
    "    Base.metadata.create_all(engine)\n"
   ]
  },
  {
   "cell_type": "markdown",
   "id": "3915c816-1926-4349-a509-9535fd7ee1fc",
   "metadata": {},
   "source": [
    "## 導入CSV"
   ]
  },
  {
   "cell_type": "code",
   "execution_count": 2,
   "id": "613aeb32-9a0c-4b33-b3ea-0258adb0514d",
   "metadata": {},
   "outputs": [
    {
     "name": "stderr",
     "output_type": "stream",
     "text": [
      "C:\\Users\\student\\AppData\\Local\\Temp\\ipykernel_15580\\2862392216.py:24: SAWarning: This declarative base already contains a class with the same class name and module name as __main__.MyTable, and will be replaced in the string-lookup table.\n",
      "  class MyTable(Base):\n"
     ]
    }
   ],
   "source": [
    "import csv\n",
    "from sqlalchemy import create_engine, Column, Integer, String\n",
    "from sqlalchemy.ext.declarative import declarative_base\n",
    "from sqlalchemy.orm import sessionmaker\n",
    "import sqlalchemy as db\n",
    "\n",
    "username = 'root'     # 資料庫帳號\n",
    "password = 'Asd_102938'     # 資料庫密碼\n",
    "host = 'localhost'    # 資料庫位址\n",
    "port = '3306'         # 資料庫埠號\n",
    "database = 'Accident'   # 資料庫名稱\n",
    "# 连接到 MySQL 数据库\n",
    "engine = db.create_engine(f'mysql+pymysql://{username}:{password}@{host}:{port}/{database}')\n",
    "\n",
    "# 创建基类\n",
    "Base = declarative_base()\n",
    "\n",
    "locations=['NewTaipeiCity', 'Taipei', 'ChiayiCounty', 'PingtungCounty', 'Hsinchu', 'HsinchuCounty', 'NantouCounty', 'ChanghuaCounty', 'PenghuCounty','Taichung', 'YilanCounty', 'YunlinCounty', 'MiaoliCounty', 'TaitungCounty', 'Keelung', 'Tainan', 'Taoyuan', 'HualienCounty','Kaohsiung', 'KinmenCounty', 'Chiayi', 'LienchiangCounty']\n",
    "tw_lists = ['新北市', '臺北市', '嘉義縣', '屏東縣', '新竹市', '新竹縣', '南投縣', '彰化縣', '澎湖縣','臺中市', '宜蘭縣', '雲林縣', '苗栗縣', '臺東縣', '基隆市', '臺南市', '桃園市', '花蓮縣','高雄市', '金門縣', '嘉義市', '連江縣']\n",
    "i=0\n",
    "# 定义表\n",
    "while i < len(locations):\n",
    "\n",
    "    class MyTable(Base):\n",
    "        __tablename__ = f'{locations[i]}_2022'\n",
    "        id = Column(Integer, primary_key=True)\n",
    "        lat = Column(String(50))\n",
    "        lng = Column(String(50))\n",
    "\n",
    "    # 创建会话\n",
    "    Session = sessionmaker(bind=engine)\n",
    "    session = Session()    \n",
    "\n",
    "    # 读取 CSV 文件    \n",
    "\n",
    "    with open(f'C:/Users/student/Desktop/my_project/各縣市車禍座標/2022/{tw_lists[i]}.csv', 'r',encoding=\"utf-8\") as f:\n",
    "        reader = csv.DictReader(f,fieldnames=['lat', 'lng'])\n",
    "        # 将数据导入到数据库中\n",
    "        for row in reader:\n",
    "            session.add(MyTable(**row))\n",
    "        # 提交会话并关闭连接\n",
    "        session.commit()\n",
    "    i=i+1\n",
    "session.close()"
   ]
  },
  {
   "cell_type": "code",
   "execution_count": 9,
   "id": "9d32a685",
   "metadata": {},
   "outputs": [
    {
     "name": "stderr",
     "output_type": "stream",
     "text": [
      "C:\\Users\\student\\AppData\\Local\\Temp\\ipykernel_4580\\437324970.py:36: SAWarning: Identity map already had an identity for (<class '__main__.MyTable'>, (0,), None), replacing it with newly flushed object.   Are there load operations occurring inside of an event handler within the flush?\n",
      "  session.commit()\n"
     ]
    }
   ],
   "source": [
    "import csv\n",
    "from sqlalchemy import create_engine, Column, Integer, String\n",
    "from sqlalchemy.ext.declarative import declarative_base\n",
    "from sqlalchemy.orm import sessionmaker\n",
    "import sqlalchemy as db\n",
    "\n",
    "username = 'root'     # 資料庫帳號\n",
    "password = 'Asd_102938'     # 資料庫密碼\n",
    "host = 'localhost'    # 資料庫位址\n",
    "port = '3306'         # 資料庫埠號\n",
    "database = 'Accident'   # 資料庫名稱\n",
    "# 连接到 MySQL 数据库\n",
    "engine = db.create_engine(f'mysql+pymysql://{username}:{password}@{host}:{port}/{database}')\n",
    "\n",
    "# 创建基类\n",
    "Base = declarative_base()\n",
    "\n",
    "class MyTable(Base):\n",
    "        __tablename__ = 'keelung_2018'\n",
    "        id = Column(Integer, primary_key=True)\n",
    "        lat = Column(String(50))\n",
    "        lng = Column(String(50))\n",
    "\n",
    "    # 创建会话\n",
    "Session = sessionmaker(bind=engine)\n",
    "session = Session()    \n",
    "\n",
    "    # 读取 CSV 文件    \n",
    "\n",
    "with open(f'C:/Users/student/Desktop/my_project/各縣市車禍座標/2018/Keelung.csv', 'r',encoding=\"utf-8\") as f:\n",
    "    reader = csv.DictReader(f,fieldnames=['lat','lng'])\n",
    "        # 将数据导入到数据库中\n",
    "    for row in reader:\n",
    "        session.add(MyTable(**row))\n",
    "        # 提交会话并关闭连接\n",
    "    session.commit()\n",
    "\n",
    "session.close()"
   ]
  },
  {
   "cell_type": "markdown",
   "id": "b5178e8e-dd47-4983-8636-35a58ab9cbd6",
   "metadata": {},
   "source": [
    "## 刪除row"
   ]
  },
  {
   "cell_type": "code",
   "execution_count": 3,
   "id": "1ac24477-064d-4a7d-8d19-15582ea05564",
   "metadata": {},
   "outputs": [],
   "source": [
    "from sqlalchemy import create_engine\n",
    "from sqlalchemy.orm import sessionmaker\n",
    "import sqlalchemy as db\n",
    "\n",
    "#連接資料庫\n",
    "username = 'root'     # 資料庫帳號\n",
    "password = 'Asd_102938'     # 資料庫密碼\n",
    "host = 'localhost'    # 資料庫位址\n",
    "port = '3306'         # 資料庫埠號\n",
    "database = 'Accident'   # 資料庫名稱\n",
    "# 建立資料庫引擎\n",
    "engine = db.create_engine(f'mysql+pymysql://{username}:{password}@{host}:{port}/{database}')\n",
    "\n",
    "# 建立與資料庫的連線\n",
    "conn = engine.connect()\n",
    "\n",
    "# 建立一個可以執行 SQL 指令的物件\n",
    "trans = conn.begin()\n",
    "\n",
    "locations=['NewTaipeiCity', 'Taipei', 'ChiayiCounty', 'PingtungCounty', 'Hsinchu', 'HsinchuCounty', 'NantouCounty', 'ChanghuaCounty', 'PenghuCounty','Taichung', 'YilanCounty', 'YunlinCounty', 'MiaoliCounty', 'TaitungCounty', 'Keelung', 'Tainan', 'Taoyuan', 'HualienCounty','Kaohsiung', 'KinmenCounty', 'Chiayi', 'LienchiangCounty']\n",
    "\n",
    "# 刪除資料表中的所有資料\n",
    "for location in locations:\n",
    "    conn.execute(f\"DELETE FROM {location}_2022 where lat = '緯度'\")\n",
    "\n",
    "# 提交交易\n",
    "trans.commit()\n",
    "\n",
    "# 關閉連線\n",
    "conn.close()"
   ]
  },
  {
   "cell_type": "code",
   "execution_count": null,
   "id": "e8ddc766-19bb-4595-90fc-86b3daa45c60",
   "metadata": {},
   "outputs": [],
   "source": []
  },
  {
   "cell_type": "code",
   "execution_count": null,
   "id": "6ae8c67c-3144-476f-9dc1-91e9a5d40c5d",
   "metadata": {},
   "outputs": [],
   "source": []
  }
 ],
 "metadata": {
  "kernelspec": {
   "display_name": "Python 3 (ipykernel)",
   "language": "python",
   "name": "python3"
  },
  "language_info": {
   "codemirror_mode": {
    "name": "ipython",
    "version": 3
   },
   "file_extension": ".py",
   "mimetype": "text/x-python",
   "name": "python",
   "nbconvert_exporter": "python",
   "pygments_lexer": "ipython3",
   "version": "3.10.7"
  },
  "vscode": {
   "interpreter": {
    "hash": "26de051ba29f2982a8de78e945f0abaf191376122a1563185a90213a26c5da77"
   }
  }
 },
 "nbformat": 4,
 "nbformat_minor": 5
}
